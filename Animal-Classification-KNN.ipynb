{
  "nbformat": 4,
  "nbformat_minor": 0,
  "metadata": {
    "colab": {
      "name": "dlbook1adrian.ipynb",
      "provenance": [],
      "authorship_tag": "ABX9TyPD6l4WGxQTqo+YvD0qrrEb",
      "include_colab_link": true
    },
    "kernelspec": {
      "name": "python3",
      "display_name": "Python 3"
    },
    "language_info": {
      "name": "python"
    }
  },
  "cells": [
    {
      "cell_type": "markdown",
      "metadata": {
        "id": "view-in-github",
        "colab_type": "text"
      },
      "source": [
        "<a href=\"https://colab.research.google.com/github/itsshuvra/Animal-Classification-using-KNN/blob/main/Animal-Classification-KNN.ipynb\" target=\"_parent\"><img src=\"https://colab.research.google.com/assets/colab-badge.svg\" alt=\"Open In Colab\"/></a>"
      ]
    },
    {
      "cell_type": "code",
      "metadata": {
        "id": "DycvXjr_gMBe",
        "colab": {
          "base_uri": "https://localhost:8080/"
        },
        "outputId": "d8d9199e-805e-44e2-8504-ddfb6589c8b0"
      },
      "source": [
        "print(\"hello animal\")"
      ],
      "execution_count": null,
      "outputs": [
        {
          "output_type": "stream",
          "text": [
            "('kross', 'ramos', 'carvajal')\n"
          ],
          "name": "stdout"
        }
      ]
    }
  ]
}