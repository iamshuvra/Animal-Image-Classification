{
  "nbformat": 4,
  "nbformat_minor": 0,
  "metadata": {
    "colab": {
      "name": "AnimalClassificationKNN.ipynb",
      "provenance": [],
      "toc_visible": true,
      "mount_file_id": "17IhrJ2U_ufbvg62i-TjSbU76uLQL2VBN",
      "authorship_tag": "ABX9TyON6c/nmXssF9CYzz9NDWVm",
      "include_colab_link": true
    },
    "kernelspec": {
      "name": "python3",
      "display_name": "Python 3"
    },
    "language_info": {
      "name": "python"
    }
  },
  "cells": [
    {
      "cell_type": "markdown",
      "metadata": {
        "id": "view-in-github",
        "colab_type": "text"
      },
      "source": [
        "<a href=\"https://colab.research.google.com/github/itsshuvra/Animal-Image-Classification/blob/main/AnimalClassificationKNN.ipynb\" target=\"_parent\"><img src=\"https://colab.research.google.com/assets/colab-badge.svg\" alt=\"Open In Colab\"/></a>"
      ]
    },
    {
      "cell_type": "markdown",
      "metadata": {
        "id": "bty2-lIpB1a4"
      },
      "source": [
        "## **Image Preprocessing**"
      ]
    },
    {
      "cell_type": "code",
      "metadata": {
        "id": "vfyvzDOUHh5Z"
      },
      "source": [
        "#necessary packages\n",
        "from sklearn.neighbors import KNeighborsClassifier\n",
        "from sklearn.preprocessing import LabelEncoder\n",
        "from sklearn.model_selection import train_test_split\n",
        "from sklearn.metrics import classification_report\n",
        "from imutils import paths\n",
        "import os"
      ],
      "execution_count": null,
      "outputs": []
    },
    {
      "cell_type": "code",
      "metadata": {
        "id": "DycvXjr_gMBe"
      },
      "source": [
        "#necessary package\n",
        "import cv2\n",
        "\n",
        "class ImgProcessor:\n",
        "    def __init__(self, width, height, inter=cv2.INTER_AREA):\n",
        "        self.width=width\n",
        "        self.height=height\n",
        "        self.inter=inter\n",
        "\n",
        "    def process(self, img):\n",
        "        #same image ratio for all images\n",
        "        return cv2.resize(img, (self.width, self.height), interpolation=self.inter)\n"
      ],
      "execution_count": null,
      "outputs": []
    },
    {
      "cell_type": "code",
      "metadata": {
        "id": "3nrA9oNlBwYW"
      },
      "source": [
        "#nessary package\n",
        "import numpy as np\n",
        "\n",
        "class DataLoader:\n",
        "    def __init__(self, prepros=None):\n",
        "        self.prepros=prepros\n",
        "        if self.prepros is None:\n",
        "            self.prepros=[]\n",
        "\n",
        "    def load(self, imgpaths, verbose=-1):\n",
        "        #create two list for data and label\n",
        "        data = []\n",
        "        labels=[]\n",
        "        #loop over the input image\n",
        "        for(i, imgpath) in enumerate(imgpaths):\n",
        "            img=cv2.imread(imgpath)\n",
        "            label=imgpath.split(os.path.sep)[-2]\n",
        "\n",
        "            if self.prepros is not None:\n",
        "                for p in self.prepros:\n",
        "                    img=p.process(img)\n",
        "\n",
        "            data.append(img)\n",
        "            labels.append(label)\n",
        "\n",
        "            if verbose > 0 and i > 0 and (i + 1) % verbose == 0:\n",
        "                print(\"[INFO] processed {}/{}\".format(i + 1, len(imgpaths)))\n",
        "        return (np.array(data), np.array(labels))"
      ],
      "execution_count": null,
      "outputs": []
    },
    {
      "cell_type": "markdown",
      "metadata": {
        "id": "CYDk3fcEHe5R"
      },
      "source": [
        "## **KNN**"
      ]
    },
    {
      "cell_type": "code",
      "metadata": {
        "id": "bxJIPcBsIWAc"
      },
      "source": [
        "#dataset path\n",
        "dataset_path = '/content/drive/MyDrive/animals/'\n",
        "neighbors = 3\n",
        "jobs = 1"
      ],
      "execution_count": null,
      "outputs": []
    },
    {
      "cell_type": "code",
      "metadata": {
        "colab": {
          "base_uri": "https://localhost:8080/"
        },
        "id": "sfHsT3yqKbPS",
        "outputId": "32f29591-f4a1-42db-fd25-74ba6684ba69"
      },
      "source": [
        "print(\"Loading Images:\")\n",
        "imgpaths=list(paths.list_images(dataset_path))\n",
        "# 32*32 pixel image size processing\n",
        "ip = ImgProcessor(32, 32)\n",
        "dl = DataLoader(prepros=[ip])\n",
        "(data, labels) = dl.load(imgpaths, verbose=500)\n",
        "data = data.reshape((data.shape[0], 3072))\n",
        "print(\"[INFO] features matrix: {:.1f}KB\".format(data.nbytes / (1024)))\n",
        "print(data[1].shape)\n",
        "# encoding the labels for each animal\n",
        "# convert these to interger like 0, 1, 2\n",
        "# for cat class 0, dog class 1 and panda class 2\n",
        "\n",
        "le = LabelEncoder()\n",
        "labels = le.fit_transform(labels)\n",
        "\n",
        "#75% training and 25% testing data\n",
        "(Xtrain, Xtest, ytrain, ytest) = train_test_split(data, labels, test_size=0.25, random_state=40)\n",
        "\n",
        "#evaluating with knn classifier\n",
        "model = KNeighborsClassifier(n_neighbors=neighbors, n_jobs=jobs)\n",
        "\n",
        "model.fit(Xtrain, ytrain)\n",
        "\n",
        "\n",
        "print(classification_report(ytest, model.predict(Xtest), target_names=le.classes_))"
      ],
      "execution_count": null,
      "outputs": [
        {
          "output_type": "stream",
          "text": [
            "Loading Images:\n",
            "[INFO] processed 500/3000\n",
            "[INFO] processed 1000/3000\n",
            "[INFO] processed 1500/3000\n",
            "[INFO] processed 2000/3000\n",
            "[INFO] processed 2500/3000\n",
            "[INFO] processed 3000/3000\n",
            "okkkkkkk\n",
            "[INFO] features matrix: 9000.0KB\n",
            "(3072,)\n",
            "              precision    recall  f1-score   support\n",
            "\n",
            "        cats       0.39      0.62      0.48       253\n",
            "        dogs       0.42      0.44      0.43       252\n",
            "       panda       0.89      0.32      0.47       245\n",
            "\n",
            "    accuracy                           0.46       750\n",
            "   macro avg       0.57      0.46      0.46       750\n",
            "weighted avg       0.57      0.46      0.46       750\n",
            "\n"
          ],
          "name": "stdout"
        }
      ]
    }
  ]
}