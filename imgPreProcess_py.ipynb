{
  "nbformat": 4,
  "nbformat_minor": 0,
  "metadata": {
    "colab": {
      "name": "imgPreProcess.py",
      "provenance": [],
      "authorship_tag": "ABX9TyOZw0IcEuwZ6F3f5E1RLSJm",
      "include_colab_link": true
    },
    "kernelspec": {
      "name": "python3",
      "display_name": "Python 3"
    },
    "language_info": {
      "name": "python"
    }
  },
  "cells": [
    {
      "cell_type": "markdown",
      "metadata": {
        "id": "view-in-github",
        "colab_type": "text"
      },
      "source": [
        "<a href=\"https://colab.research.google.com/github/itsshuvra/Animal-Classification-using-KNN/blob/main/imgPreProcess_py.ipynb\" target=\"_parent\"><img src=\"https://colab.research.google.com/assets/colab-badge.svg\" alt=\"Open In Colab\"/></a>"
      ]
    },
    {
      "cell_type": "code",
      "metadata": {
        "id": "DycvXjr_gMBe"
      },
      "source": [
        "import cv2\n",
        "class imgProcessor:\n",
        "    def __init__(self, width, height, inter=cv2.INTER_AREA):\n",
        "        self.width=width\n",
        "        self.height=height\n",
        "        self.inter=inter\n",
        "\n",
        "    def process(self,img):\n",
        "        #same image ratio for all images\n",
        "        return cv2.resize(image, (self.width, self.height), interpolaion=self.inter)\n"
      ],
      "execution_count": 1,
      "outputs": []
    }
  ]
}